{
 "cells": [
  {
   "cell_type": "code",
   "execution_count": null,
   "metadata": {},
   "outputs": [],
   "source": [
    "import psycopg2\n",
    "import pandas as pds\n",
    "from sqlalchemy import create_engine\n",
    "import datetime\n",
    "from typing import List, Tuple\n",
    "import random"
   ]
  },
  {
   "cell_type": "markdown",
   "metadata": {},
   "source": [
    "## Extracción de los datos sobre las tablas"
   ]
  },
  {
   "cell_type": "code",
   "execution_count": null,
   "metadata": {},
   "outputs": [],
   "source": [
    "DATABASE = \"proyecto\"\n",
    "PORT=\"5432\"\n",
    "HOST=\"localhost\"\n",
    "USERNAME=\"alexndf\"\n",
    "PASSWORD=\"postgrespw123\"\n",
    "\n",
    "alchemy_engine   = create_engine(f'postgresql+psycopg2://{USERNAME}:{PASSWORD}@{HOST}:{PORT}/{DATABASE}')\n",
    "db_connection = alchemy_engine.connect()\n",
    "\n",
    "table_data_query = \"\"\"\n",
    "    SELECT t.table_name,\n",
    "        pg_catalog.obj_description(pgc.oid, 'pg_class') AS \"description\"\n",
    "    FROM information_schema.tables t\n",
    "        INNER JOIN pg_catalog.pg_class pgc ON t.table_name = pgc.relname\n",
    "    WHERE t.table_type = 'BASE TABLE'\n",
    "        AND t.table_schema = 'public'\n",
    "\"\"\"\n",
    "table_data = pds.read_sql(table_data_query, db_connection)\n",
    "\n",
    "column_data_query = \"\"\"\n",
    "    SELECT c.table_name,\n",
    "        c.column_name,\n",
    "        c.data_type,\n",
    "        pgd.description\n",
    "    FROM pg_catalog.pg_statio_all_tables AS st\n",
    "        INNER JOIN pg_catalog.pg_description pgd ON (pgd.objoid = st.relid)\n",
    "        INNER JOIN information_schema.columns c ON (\n",
    "            pgd.objsubid = c.ordinal_position\n",
    "            AND c.table_schema = st.schemaname\n",
    "            AND c.table_name = st.relname\n",
    "        );\n",
    "\"\"\"\n",
    "column_data = pds.read_sql(column_data_query, db_connection)\n",
    "\n",
    "\n",
    "db_connection.close()"
   ]
  },
  {
   "cell_type": "code",
   "execution_count": null,
   "metadata": {},
   "outputs": [],
   "source": [
    "display(table_data)\n",
    "display(column_data)"
   ]
  },
  {
   "cell_type": "markdown",
   "metadata": {},
   "source": [
    "## Formateo de los datos"
   ]
  },
  {
   "cell_type": "code",
   "execution_count": null,
   "metadata": {},
   "outputs": [],
   "source": [
    "def get_latex_p_col(pct):\n",
    "    return \"p{\"+f\"\\\\dimexpr {pct:0.2f}\\\\textwidth-2\\\\tabcolsep\"+\"}\""
   ]
  },
  {
   "cell_type": "code",
   "execution_count": null,
   "metadata": {},
   "outputs": [],
   "source": [
    "table_table = pds.DataFrame()\n",
    "table_table[\"Nombre\"] = [\n",
    "    r\"\\texttt{\" + str(s).replace(\"_\", r\"\\_\") + \"}\" for s in table_data[\"table_name\"]\n",
    "]\n",
    "table_table[\"Descripción\"] = table_data[\"description\"]\n",
    "table_data_latex_str = (\n",
    "    table_table.style.hide(axis=\"index\")\n",
    "    .to_latex()\n",
    "    .replace(\"tabular\", \"longtable\")\n",
    "    .replace(\n",
    "        \"{ll}\",\n",
    "        \"{|\" + get_latex_p_col(0.35) + \"|\" + get_latex_p_col(0.65) + \"|}\\n\\hline\",\n",
    "    )\n",
    "    .replace(\"\\\\\\\\\\n\", \"\\\\\\\\ \\\\hline\\n\")\n",
    ")\n",
    "print(table_data_latex_str)\n"
   ]
  },
  {
   "cell_type": "code",
   "execution_count": null,
   "metadata": {},
   "outputs": [],
   "source": [
    "column_data"
   ]
  },
  {
   "cell_type": "code",
   "execution_count": null,
   "metadata": {},
   "outputs": [],
   "source": [
    "table_names = list(sorted(table_data[\"table_name\"]))\n",
    "column_tables = []\n",
    "column_data_latex_strs = []\n",
    "for tn in table_names:\n",
    "    current_column_data = column_data[column_data[\"table_name\"] == tn]\n",
    "\n",
    "    current_column_table = pds.DataFrame()\n",
    "    current_column_table[\"Nombre\"] = [\n",
    "        r\"\\texttt{\" + str(s).replace(\"_\", r\"\\_\") + \"}\"\n",
    "        for s in current_column_data[\"column_name\"]\n",
    "    ]\n",
    "    current_column_table[\"Tipo\"] = [\n",
    "        r\"\\texttt{\" + str(s).replace(\"_\", r\"\\_\") + \"}\"\n",
    "        for s in current_column_data[\"data_type\"]\n",
    "    ]\n",
    "    current_column_table[\"Descripción\"] = list(current_column_data[\"description\"])\n",
    "    column_tables.append(current_column_table)\n",
    "    current_column_table_latex_str = (\n",
    "        r\"Columnas de \\texttt{\"\n",
    "        + tn.replace(\"_\", r\"\\_\")\n",
    "        + \"}:\\n\"\n",
    "        + (\n",
    "            current_column_table.style.hide(axis=\"index\")\n",
    "            .to_latex()\n",
    "            .replace(\"tabular\", \"longtable\")\n",
    "            .replace(\n",
    "                \"{lll}\",\n",
    "                \"{|\"\n",
    "                + get_latex_p_col(0.34)\n",
    "                + \"|\"\n",
    "                + get_latex_p_col(0.22)\n",
    "                + \"|\"\n",
    "                + get_latex_p_col(0.44)\n",
    "                + \"|}\\n\\hline\",\n",
    "            )\n",
    "            .replace(\"\\\\\\\\\\n\", \"\\\\\\\\ \\\\hline\\n\")\n",
    "        )\n",
    "    )\n",
    "    column_data_latex_strs.append(current_column_table_latex_str)\n"
   ]
  },
  {
   "cell_type": "code",
   "execution_count": null,
   "metadata": {},
   "outputs": [],
   "source": [
    "print(\"\\n\".join(column_data_latex_strs))"
   ]
  }
 ],
 "metadata": {
  "kernelspec": {
   "display_name": "mypython3",
   "language": "python",
   "name": "mypython3"
  },
  "language_info": {
   "codemirror_mode": {
    "name": "ipython",
    "version": 3
   },
   "file_extension": ".py",
   "mimetype": "text/x-python",
   "name": "python",
   "nbconvert_exporter": "python",
   "pygments_lexer": "ipython3",
   "version": "3.8.10"
  },
  "orig_nbformat": 4,
  "vscode": {
   "interpreter": {
    "hash": "916dbcbb3f70747c44a77c7bcd40155683ae19c65e1c03b4aa3499c5328201f1"
   }
  }
 },
 "nbformat": 4,
 "nbformat_minor": 2
}
