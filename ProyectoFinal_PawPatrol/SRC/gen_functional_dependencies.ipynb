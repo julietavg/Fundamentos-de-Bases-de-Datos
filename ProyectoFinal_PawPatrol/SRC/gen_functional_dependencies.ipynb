{
 "cells": [
  {
   "cell_type": "code",
   "execution_count": null,
   "metadata": {},
   "outputs": [],
   "source": [
    "import psycopg2\n",
    "import pandas as pds\n",
    "from sqlalchemy import create_engine\n",
    "import datetime\n",
    "from typing import List, Tuple\n",
    "import random\n",
    "from collections import defaultdict"
   ]
  },
  {
   "cell_type": "markdown",
   "metadata": {},
   "source": [
    "## Extracción de los datos sobre las tablas"
   ]
  },
  {
   "cell_type": "code",
   "execution_count": null,
   "metadata": {},
   "outputs": [],
   "source": [
    "DATABASE = \"proyecto\"\n",
    "PORT=\"5432\"\n",
    "HOST=\"localhost\"\n",
    "USERNAME=\"alexndf\"\n",
    "PASSWORD=\"postgrespw123\"\n",
    "\n",
    "alchemy_engine   = create_engine(f'postgresql+psycopg2://{USERNAME}:{PASSWORD}@{HOST}:{PORT}/{DATABASE}')\n",
    "db_connection = alchemy_engine.connect()\n",
    "\n",
    "table_data_query = \"\"\"\n",
    "    SELECT table_name\n",
    "    FROM information_schema.tables\n",
    "    WHERE table_type = 'BASE TABLE'\n",
    "        AND table_schema = 'public'\n",
    "\"\"\"\n",
    "table_data = pds.read_sql(table_names_query, db_connection)\n",
    "\n",
    "table_column_data_query = \"\"\"\n",
    "    SELECT c.table_name,\n",
    "        c.column_name\n",
    "    FROM pg_catalog.pg_statio_all_tables AS st\n",
    "        INNER JOIN pg_catalog.pg_description pgd ON (pgd.objoid = st.relid)\n",
    "        INNER JOIN information_schema.columns c ON (\n",
    "            pgd.objsubid = c.ordinal_position\n",
    "            AND c.table_schema = st.schemaname\n",
    "            AND c.table_name = st.relname\n",
    "        );\n",
    "\"\"\"\n",
    "table_column_data = pds.read_sql(table_column_data_query, db_connection)"
   ]
  },
  {
   "cell_type": "code",
   "execution_count": null,
   "metadata": {},
   "outputs": [],
   "source": [
    "display(table_data)\n",
    "display(table_column_data)"
   ]
  },
  {
   "cell_type": "code",
   "execution_count": null,
   "metadata": {},
   "outputs": [],
   "source": [
    "def get_table_primary_keys(table_name):\n",
    "    pk_query = f\"\"\"\n",
    "        SELECT c.column_name\n",
    "        FROM information_schema.table_constraints tc \n",
    "            JOIN information_schema.constraint_column_usage AS ccu USING (constraint_schema, constraint_name) \n",
    "            JOIN information_schema.columns AS c ON c.table_schema = tc.constraint_schema\n",
    "                AND tc.table_name = c.table_name AND ccu.column_name = c.column_name\n",
    "            WHERE constraint_type = 'PRIMARY KEY' AND c.table_name='{table_name}';\n",
    "    \"\"\"\n",
    "    return pds.read_sql(pk_query, db_connection)"
   ]
  },
  {
   "cell_type": "code",
   "execution_count": null,
   "metadata": {},
   "outputs": [],
   "source": [
    "primary_keys = defaultdict(lambda : set())\n",
    "other_columns = defaultdict(lambda : set())\n",
    "\n",
    "for tn in table_data[\"table_name\"]:\n",
    "    for pk in get_table_primary_keys(tn)[\"column_name\"]:\n",
    "        primary_keys[tn].add(pk)\n",
    "    for col in table_column_data[table_column_data[\"table_name\"]==tn][\"column_name\"]:\n",
    "        if col not in primary_keys[tn]:\n",
    "            other_columns[tn].add(col)"
   ]
  },
  {
   "cell_type": "code",
   "execution_count": null,
   "metadata": {},
   "outputs": [],
   "source": [
    "db_connection.close()"
   ]
  },
  {
   "cell_type": "markdown",
   "metadata": {},
   "source": [
    "## Generación de las dependencias funcionales"
   ]
  },
  {
   "cell_type": "code",
   "execution_count": null,
   "metadata": {},
   "outputs": [],
   "source": [
    "def format_tex_col(col_name: str):\n",
    "    return r\"\\texttt{\" + col_name.replace(\"_\", r\"\\_\") + \"}\"\n"
   ]
  },
  {
   "cell_type": "code",
   "execution_count": null,
   "metadata": {},
   "outputs": [],
   "source": [
    "for tn in table_data[\"table_name\"]:\n",
    "    pks = primary_keys[tn]\n",
    "    cols = other_columns[tn]\n",
    "    print(tn)\n",
    "    print(\"\\tprimary_keys:\", pks)\n",
    "    print(\"\\tother_cols:\", cols)\n",
    "    print(\"\")"
   ]
  },
  {
   "cell_type": "code",
   "execution_count": null,
   "metadata": {},
   "outputs": [],
   "source": [
    "functional_dependencies_latex_strs = []\n",
    "for tn in sorted(table_data[\"table_name\"]):\n",
    "    pks = primary_keys[tn]\n",
    "    cols = other_columns[tn]\n",
    "    if len(pks) == 0 or len(cols) == 0:\n",
    "        continue\n",
    "    pk_str = \", \".join(map(format_tex_col, [tn + \".\" + pk for pk in sorted(pks)]))\n",
    "    cols_str = (\n",
    "        \"\\t\\\\begin{itemize}\"\n",
    "        + \"\\n\"\n",
    "        + \"\\n\".join([\"\\t\\t\\\\item \" + format_tex_col(tn + \".\" + c) for c in sorted(cols)])\n",
    "        + \"\\n\"\n",
    "        + \"\\t\\\\end{itemize}\"\n",
    "    )\n",
    "    if pk_str != cols_str:\n",
    "        fd_str = \"\\t\" + r\"\\item \" + pk_str + \" $\\\\to$ \\n\" + cols_str\n",
    "        functional_dependencies_latex_strs.append(fd_str)\n"
   ]
  },
  {
   "cell_type": "code",
   "execution_count": null,
   "metadata": {},
   "outputs": [],
   "source": [
    "fd_tex_str = (\n",
    "    r\"\\begin{itemize}\"\n",
    "    + \"\\n\"\n",
    "    + \"\\n\".join(functional_dependencies_latex_strs)\n",
    "    + \"\\n\"\n",
    "    + r\"\\end{itemize}\"\n",
    ")\n",
    "print(fd_tex_str)\n"
   ]
  },
  {
   "cell_type": "code",
   "execution_count": null,
   "metadata": {},
   "outputs": [],
   "source": []
  }
 ],
 "metadata": {
  "kernelspec": {
   "display_name": "mypython3",
   "language": "python",
   "name": "mypython3"
  },
  "language_info": {
   "codemirror_mode": {
    "name": "ipython",
    "version": 3
   },
   "file_extension": ".py",
   "mimetype": "text/x-python",
   "name": "python",
   "nbconvert_exporter": "python",
   "pygments_lexer": "ipython3",
   "version": "3.8.10"
  },
  "orig_nbformat": 4,
  "vscode": {
   "interpreter": {
    "hash": "916dbcbb3f70747c44a77c7bcd40155683ae19c65e1c03b4aa3499c5328201f1"
   }
  }
 },
 "nbformat": 4,
 "nbformat_minor": 2
}
